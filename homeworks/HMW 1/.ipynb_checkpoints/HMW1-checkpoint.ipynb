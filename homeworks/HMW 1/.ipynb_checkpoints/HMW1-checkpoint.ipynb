{
 "cells": [
  {
   "cell_type": "code",
   "execution_count": 1,
   "id": "a032ce6a",
   "metadata": {},
   "outputs": [],
   "source": [
    "import matplotlib.pyplot as plt\n",
    "import numpy as np\n",
    "import warnings\n",
    "\n",
    "warnings.filterwarnings('ignore')\n",
    "%matplotlib inline"
   ]
  },
  {
   "cell_type": "markdown",
   "id": "e236b9af",
   "metadata": {},
   "source": [
    "#### Домашнее задание № 1\n",
    "Задача для прогнозирования стоимости квартиры. Датасет содержит следующую информацию: количество комнат, общая площадь, жилая площадь, этаж, площадь кухни, расстояние от аэропорта, расстояние до центра города\n",
    "1. Обучите модель на основе этих данных. Используйте метод градиентный спуск.\n",
    "2. Посчитайте среднюю квадратичную ошибку и визуализируйте\n",
    "3. Напишите выводы и интерпретируйте, как вы подбирали гиперпараметры"
   ]
  },
  {
   "cell_type": "code",
   "execution_count": 2,
   "id": "68a3eb05",
   "metadata": {},
   "outputs": [],
   "source": [
    "data = np.loadtxt(\"data2.csv\",delimiter=\",\", skiprows=1).T.tolist()"
   ]
  },
  {
   "cell_type": "code",
   "execution_count": null,
   "id": "e45864ff",
   "metadata": {},
   "outputs": [],
   "source": [
    "### YOUR CODE:"
   ]
  },
  {
   "cell_type": "markdown",
   "id": "8849e5bb",
   "metadata": {},
   "source": [
    "#### Домашнее задание № 2\n",
    "Следующий датасет содержит нелинейные данные. Нам необходимо найти оптимальную модель, чтобы прогнозировать с минимальными ошибками.\n",
    "1. Используйте обычный градиентный спуск и визуализируйте результат.\n",
    "2. Используйте полиномиальную регрессию и найдите необходимую степень полинома и визуализируйте результат.\n",
    "3. Напишите выводы."
   ]
  },
  {
   "cell_type": "code",
   "execution_count": 3,
   "id": "c9bef92d",
   "metadata": {},
   "outputs": [
    {
     "data": {
      "image/png": "[encoded data removed]",
      "text/plain": [
       "<Figure size 800x600 with 1 Axes>"
      ]
     },
     "metadata": {},
     "output_type": "display_data"
    }
   ],
   "source": [
    "data = np.loadtxt(\"data6.csv\",delimiter=\",\", skiprows=1).T.tolist()\n",
    "x=np.array(data[0])\n",
    "y_noisy=np.array(data[1])\n",
    "y_true=np.array(data[2])\n",
    "\n",
    "plt.figure(figsize=(8, 6))\n",
    "plt.scatter(x, y_noisy, label='Noisy Data', color='blue')\n",
    "plt.plot(x, y_true, label='True Polynomial', color='red', linewidth=2)\n",
    "plt.xlabel('X')\n",
    "plt.ylabel('Y')\n",
    "plt.legend()\n",
    "plt.show()"
   ]
  },
  {
   "cell_type": "code",
   "execution_count": null,
   "id": "2895c2ac",
   "metadata": {},
   "outputs": [],
   "source": [
    "### YOUR CODE:"
   ]
  },
  {
   "cell_type": "markdown",
   "id": "7dfca81a",
   "metadata": {},
   "source": [
    "### Домашнее задание № 3\n",
    "\n",
    "1. Визуализация траектории градиентного спуска\n",
    "2. Влияние размера шага на сходимость\n",
    "    $\\alpha = 0.0001$ , $\\alpha = 0.01$ , $\\alpha = 0.1$\n",
    "\n",
    "3. Масштабирование функции\n",
    "```python\n",
    "X_new = X.copy()\n",
    "X_new[:,1] = X_new[:,1] * 5\n",
    "```\n",
    "4. Напишите выводы."
   ]
  },
  {
   "cell_type": "code",
   "execution_count": 4,
   "id": "35e58937",
   "metadata": {},
   "outputs": [],
   "source": [
    "n_features = 2\n",
    "n_objects = 300\n",
    "num_steps = 100\n",
    "\n",
    "\n",
    "np.random.seed(1)\n",
    "w_true = np.random.normal(0, 0.1, size=(n_features, ))\n",
    "w_0 = np.random.uniform(-2, 2, (n_features))\n",
    "\n",
    "X = np.random.uniform(-5, 5, (n_objects, n_features))\n",
    "y = np.dot(X, w_true) + np.random.normal(0, 1, (n_objects))"
   ]
  },
  {
   "cell_type": "code",
   "execution_count": null,
   "id": "025bb12f",
   "metadata": {},
   "outputs": [],
   "source": [
    "### YOUR CODE:"
   ]
  },
  {
   "cell_type": "markdown",
   "id": "f58d60f1",
   "metadata": {},
   "source": [
    "### Домашнее задание № 4\n",
    "\n",
    "#### Реализация полного градиентного спуска с матричными операциями\n",
    "\n",
    "Градиент в матричной форме $$\\nabla Q(\\theta) = -2X^Ty + 2X^TX\\theta = 2X^T(X\\theta - y).$$\n",
    "\n",
    "Сравнение скорости работы обычной(LinearRegression) и матричной формы\n",
    "\n"
   ]
  },
  {
   "cell_type": "code",
   "execution_count": 5,
   "id": "3f75614a",
   "metadata": {},
   "outputs": [],
   "source": [
    "n_features = 100\n",
    "n_objects = 10000\n",
    "num_steps = 2\n",
    "\n",
    "\n",
    "np.random.seed(1)\n",
    "w_true = np.random.normal(0, 0.1, size=(n_features, ))\n",
    "w_0 = np.random.uniform(-2, 2, (n_features))\n",
    "\n",
    "X = np.random.uniform(-5, 5, (n_objects, n_features))\n",
    "y = np.dot(X, w_true) + np.random.normal(0, 1, (n_objects))"
   ]
  },
  {
   "cell_type": "code",
   "execution_count": null,
   "id": "e9ce6127",
   "metadata": {},
   "outputs": [],
   "source": [
    "### YOUR CODE:"
   ]
  },
  {
   "cell_type": "markdown",
   "id": "a4530f72",
   "metadata": {},
   "source": [
    "### Домашнее задание № 5\n",
    "\n",
    "Мы будем использовать датасет объявлений по продаже машин . В задаче предсказания целевой переменной для нас будет являться цена. Для дальнейшей работы сделайте следующее:\n",
    "\n",
    "1. Проведите разумную предобработку данных\n",
    "\n",
    "2. Разделите данные на обучающую тестовую выборки \n",
    "\n",
    "Сходимость стохастического градиентного спуска в зависимости от размера батча\n",
    "```python\n",
    "batch_sizes = np.arange(5, 500, 10)\n",
    "```\n",
    "\n",
    "3. Сделайте по несколько запусков  стохастического градиентного спуска на обучающей выборке для каждого размера батча из списка. Замерьте время и количество итераций до сходимости.\n",
    "\n",
    "4. Постройте график зависимости количества шагов до сходимости от размера батча.\n",
    "5. Постройте график зависимости времени до сходимости от размера батча.\n",
    "\n",
    "6. Сравните для каждого метода результаты на тестовой выборке по метрикам MSE о метрикам MSE и $R^2$ с регуляризацией и без регуляризации. Постройте для каждого метода график со значениями функции потерь MSE с регуляризацией и без регуляризации.\n",
    "4. Напишите выводы."
   ]
  }
 ],
 "metadata": {
  "kernelspec": {
   "display_name": "Python 3 (ipykernel)",
   "language": "python",
   "name": "python3"
  },
  "language_info": {
   "codemirror_mode": {
    "name": "ipython",
    "version": 3
   },
   "file_extension": ".py",
   "mimetype": "text/x-python",
   "name": "python",
   "nbconvert_exporter": "python",
   "pygments_lexer": "ipython3",
   "version": "3.10.9"
  }
 },
 "nbformat": 4,
 "nbformat_minor": 5
}
